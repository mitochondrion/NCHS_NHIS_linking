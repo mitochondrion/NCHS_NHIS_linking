{
 "cells": [
  {
   "cell_type": "code",
   "execution_count": 9,
   "metadata": {},
   "outputs": [],
   "source": [
    "from io import StringIO\n",
    "import pandas\n",
    "import glob"
   ]
  },
  {
   "cell_type": "markdown",
   "metadata": {},
   "source": [
    "Download NCHS linked data (and discard non-NHIS linked data)"
   ]
  },
  {
   "cell_type": "code",
   "execution_count": null,
   "metadata": {},
   "outputs": [],
   "source": [
    "!wget --recursive ftp://ftp.cdc.gov/pub/Health_Statistics/NCHS/datalinkage/linked_mortality\n",
    "!mkdir NCHS_linked_data\n",
    "!mv ./ftp.cdc.gov/pub/Health_Statistics/NCHS/datalinkage/linked_mortality/NHIS_*.dat ./NCHS_linked_data/\n",
    "!rm -r ./ftp.cdc.gov"
   ]
  },
  {
   "cell_type": "markdown",
   "metadata": {},
   "source": [
    "Load NCHS linked data from disk"
   ]
  },
  {
   "cell_type": "markdown",
   "metadata": {},
   "source": [
    "Read in all the NCHS linked mortality datafiles"
   ]
  },
  {
   "cell_type": "code",
   "execution_count": 8,
   "metadata": {},
   "outputs": [],
   "source": [
    "nchs_file_paths = glob.glob(\"./NCHS_linked_data/NHIS_*.dat\")"
   ]
  },
  {
   "cell_type": "code",
   "execution_count": null,
   "metadata": {},
   "outputs": [],
   "source": [
    "# Sanity check\n",
    "assert len(nchs_file_paths) > 0, \"No NCHS files available!\""
   ]
  },
  {
   "cell_type": "code",
   "execution_count": 4,
   "metadata": {},
   "outputs": [],
   "source": [
    "nchs_column_widths = [14,1,1,3,1,1,1,4,8,8]\n",
    "nchs_column_names = [\"PUBLICID\", \"ELIGSTAT\", \"MORTSTAT\", \"UCOD_LEADING\", \"DIABETES\", \"HYPERTEN\", \"DODQTR\", \"DODYEAR\", \"WGT_NEW\", \"SA_WGT_NEW\"]\n",
    "\n",
    "nchs_dataframes = [\n",
    "    pandas.read_fwf(\n",
    "        file_path,\n",
    "        widths=nchs_column_widths,\n",
    "        names=nchs_column_names,\n",
    "        dtype=False, #{\"PUBLICID\": \"object\"}\n",
    "        na_values=['.']\n",
    "    )\n",
    "    for file_path\n",
    "    in nchs_file_paths\n",
    "]"
   ]
  },
  {
   "cell_type": "code",
   "execution_count": null,
   "metadata": {},
   "outputs": [],
   "source": [
    "# Sanity check\n",
    "total_row_count = sum([dataframe.shape[0] for dataframe in nchs_dataframes])\n",
    "total_line_count = !wc -l ./NCHS_linked_data/NHIS_*.dat | grep total | cut -f2 -d' '\n",
    "assert total_row_count == total_line_count, \"Expected {} to equal {}\".format(total_row_count, total_line_count)"
   ]
  },
  {
   "cell_type": "code",
   "execution_count": 14,
   "metadata": {},
   "outputs": [
    {
     "ename": "NameError",
     "evalue": "name 'nchs_dataframes' is not defined",
     "output_type": "error",
     "traceback": [
      "\u001b[0;31m---------------------------------------------------------------------------\u001b[0m",
      "\u001b[0;31mNameError\u001b[0m                                 Traceback (most recent call last)",
      "\u001b[0;32m<ipython-input-14-1d6fdd8d9bea>\u001b[0m in \u001b[0;36m<module>\u001b[0;34m\u001b[0m\n\u001b[1;32m      1\u001b[0m \u001b[0;31m# Debug info\u001b[0m\u001b[0;34m\u001b[0m\u001b[0;34m\u001b[0m\u001b[0;34m\u001b[0m\u001b[0m\n\u001b[0;32m----> 2\u001b[0;31m \u001b[0;32mfor\u001b[0m \u001b[0mdf\u001b[0m \u001b[0;32min\u001b[0m \u001b[0mnchs_dataframes\u001b[0m\u001b[0;34m:\u001b[0m\u001b[0;34m\u001b[0m\u001b[0;34m\u001b[0m\u001b[0m\n\u001b[0m\u001b[1;32m      3\u001b[0m    \u001b[0mprint\u001b[0m\u001b[0;34m(\u001b[0m\u001b[0;34m\"{:8d}\"\u001b[0m\u001b[0;34m.\u001b[0m\u001b[0mformat\u001b[0m\u001b[0;34m(\u001b[0m\u001b[0mdf\u001b[0m\u001b[0;34m.\u001b[0m\u001b[0mshape\u001b[0m\u001b[0;34m[\u001b[0m\u001b[0;36m0\u001b[0m\u001b[0;34m]\u001b[0m\u001b[0;34m)\u001b[0m\u001b[0;34m)\u001b[0m\u001b[0;34m\u001b[0m\u001b[0;34m\u001b[0m\u001b[0m\n\u001b[1;32m      4\u001b[0m \u001b[0;34m\u001b[0m\u001b[0m\n\u001b[1;32m      5\u001b[0m \u001b[0mprint\u001b[0m\u001b[0;34m(\u001b[0m\u001b[0;34m\"=\"\u001b[0m \u001b[0;34m*\u001b[0m \u001b[0;36m8\u001b[0m\u001b[0;34m)\u001b[0m\u001b[0;34m\u001b[0m\u001b[0;34m\u001b[0m\u001b[0m\n",
      "\u001b[0;31mNameError\u001b[0m: name 'nchs_dataframes' is not defined"
     ]
    }
   ],
   "source": [
    "# Debug info\n",
    "for dataframe in nchs_dataframes:\n",
    "   print(\"{:8d}\".format(dataframe.shape[0]))\n",
    "\n",
    "print(\"=\" * 8)\n",
    "print(\"{:8d}\".format(total_row_count))"
   ]
  },
  {
   "cell_type": "markdown",
   "metadata": {},
   "source": [
    "Combine NCHS dataframes into one big dataframe"
   ]
  },
  {
   "cell_type": "code",
   "execution_count": 5,
   "metadata": {},
   "outputs": [],
   "source": [
    "nchs_data = pandas.concat(nchs_nhis_linked_dataframes)"
   ]
  },
  {
   "cell_type": "code",
   "execution_count": null,
   "metadata": {},
   "outputs": [],
   "source": [
    "# Sanity check\n",
    "separate_row_count = sum([dataframe.shape[0] for dataframe in nchs_dataframes])\n",
    "combined_row_count = nchs_data.shape[0]\n",
    "assert separate_row_count == combined_row_count, \"Expected {} to equal {}\".format(separate_row_count, combined_row_count)"
   ]
  },
  {
   "cell_type": "markdown",
   "metadata": {},
   "source": [
    "Read in "
   ]
  },
  {
   "cell_type": "code",
   "execution_count": null,
   "metadata": {},
   "outputs": [],
   "source": [
    "# Set the path of your NHIS data extract (csv)\n",
    "nhis_file_path = \"../NHIS/nhis_test.csv.gz\""
   ]
  },
  {
   "cell_type": "code",
   "execution_count": 7,
   "metadata": {},
   "outputs": [],
   "source": [
    "nhis_chunks = pandas.read_csv(\n",
    "    nhis_file_path,\n",
    "    compression=\"gzip\",\n",
    "    chunksize=100000\n",
    ")"
   ]
  },
  {
   "cell_type": "markdown",
   "metadata": {},
   "source": [
    "Join the NCHS linked data with the raw NHIS data"
   ]
  },
  {
   "cell_type": "code",
   "execution_count": null,
   "metadata": {},
   "outputs": [],
   "source": [
    "#chunk = nhis_chunks.get_chunk()"
   ]
  },
  {
   "cell_type": "markdown",
   "metadata": {},
   "source": [
    "```python\n",
    "pandas.merge(\n",
    "    restaurant_ids_dataframe,\n",
    "    restaurant_review_frame,\n",
    "    on='business_id',\n",
    "    how='outer',\n",
    "    suffixes=('_restaurant_id', '_restaurant_review')\n",
    ")\n",
    "```"
   ]
  },
  {
   "cell_type": "code",
   "execution_count": null,
   "metadata": {},
   "outputs": [],
   "source": []
  }
 ],
 "metadata": {
  "kernelspec": {
   "display_name": "Python 3",
   "language": "python",
   "name": "python3"
  },
  "language_info": {
   "codemirror_mode": {
    "name": "ipython",
    "version": 3
   },
   "file_extension": ".py",
   "mimetype": "text/x-python",
   "name": "python",
   "nbconvert_exporter": "python",
   "pygments_lexer": "ipython3",
   "version": "3.7.4"
  }
 },
 "nbformat": 4,
 "nbformat_minor": 2
}
