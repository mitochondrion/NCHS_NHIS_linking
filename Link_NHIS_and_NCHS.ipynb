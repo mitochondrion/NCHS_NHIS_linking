{
 "cells": [
  {
   "cell_type": "code",
   "execution_count": 1,
   "metadata": {},
   "outputs": [],
   "source": [
    "from io import StringIO\n",
    "import pandas\n",
    "import glob"
   ]
  },
  {
   "cell_type": "markdown",
   "metadata": {},
   "source": [
    "Download NCHS linked data (and discard non-NHIS linked data)"
   ]
  },
  {
   "cell_type": "code",
   "execution_count": null,
   "metadata": {},
   "outputs": [],
   "source": [
    "!wget --recursive ftp://ftp.cdc.gov/pub/Health_Statistics/NCHS/datalinkage/linked_mortality\n",
    "!mkdir NCHS_linked_data\n",
    "!mv ./ftp.cdc.gov/pub/Health_Statistics/NCHS/datalinkage/linked_mortality/NHIS_*.dat ./NCHS_linked_data/\n",
    "!rm -r ./ftp.cdc.gov"
   ]
  },
  {
   "cell_type": "markdown",
   "metadata": {},
   "source": [
    "Read in all the NCHS linked mortality datafiles"
   ]
  },
  {
   "cell_type": "code",
   "execution_count": 2,
   "metadata": {},
   "outputs": [],
   "source": [
    "nchs_file_paths = glob.glob(\"./NCHS_linked_data/NHIS_*.dat\")"
   ]
  },
  {
   "cell_type": "code",
   "execution_count": 3,
   "metadata": {},
   "outputs": [],
   "source": [
    "# Sanity check\n",
    "assert len(nchs_file_paths) > 0, \"No NCHS files available!\""
   ]
  },
  {
   "cell_type": "code",
   "execution_count": 4,
   "metadata": {},
   "outputs": [],
   "source": [
    "nchs_column_widths = [14,1,1,3,1,1,1,4,8,8]\n",
    "nchs_column_names = [\"PUBLICID\", \"ELIGSTAT\", \"MORTSTAT\", \"UCOD_LEADING\", \"DIABETES\", \"HYPERTEN\", \"DODQTR\", \"DODYEAR\", \"WGT_NEW\", \"SA_WGT_NEW\"]\n",
    "\n",
    "nchs_dataframes = [\n",
    "    pandas.read_fwf(\n",
    "        file_path,\n",
    "        widths=nchs_column_widths,\n",
    "        names=nchs_column_names,\n",
    "        dtype=False, #{\"PUBLICID\": \"object\"}\n",
    "        na_values=['.']\n",
    "    )\n",
    "    for file_path\n",
    "    in nchs_file_paths\n",
    "]"
   ]
  },
  {
   "cell_type": "code",
   "execution_count": 5,
   "metadata": {},
   "outputs": [],
   "source": [
    "# Sanity check\n",
    "total_row_count = sum([dataframe.shape[0] for dataframe in nchs_dataframes])\n",
    "total_line_count_string = !wc -l ./NCHS_linked_data/NHIS_*.dat | grep total | cut -f2 -d' '\n",
    "total_line_count = int(total_line_count_string[0])\n",
    "assert total_row_count == total_line_count, \"Expected {} to equal {}\".format(total_row_count, total_line_count)"
   ]
  },
  {
   "cell_type": "code",
   "execution_count": 6,
   "metadata": {},
   "outputs": [
    {
     "name": "stdout",
     "output_type": "stream",
     "text": [
      "  120032\n",
      "   89976\n",
      "  116179\n",
      "   62052\n",
      "   75764\n",
      "   93386\n",
      "  116929\n",
      "   74236\n",
      "  101875\n",
      "  119631\n",
      "  102467\n",
      "  112053\n",
      "   88446\n",
      "  122310\n",
      "   75716\n",
      "  122859\n",
      "   92148\n",
      "  100618\n",
      "   98649\n",
      "   97059\n",
      "   63402\n",
      "  108131\n",
      "  109671\n",
      "  100760\n",
      "   94460\n",
      "  103477\n",
      "  128412\n",
      "  104520\n",
      "   98785\n",
      "========\n",
      " 2894003\n"
     ]
    }
   ],
   "source": [
    "# Debug info\n",
    "for dataframe in nchs_dataframes:\n",
    "   print(\"{:8d}\".format(dataframe.shape[0]))\n",
    "\n",
    "print(\"=\" * 8)\n",
    "print(\"{:8d}\".format(total_row_count))"
   ]
  },
  {
   "cell_type": "markdown",
   "metadata": {},
   "source": [
    "Combine NCHS dataframes into one big dataframe"
   ]
  },
  {
   "cell_type": "code",
   "execution_count": 7,
   "metadata": {},
   "outputs": [],
   "source": [
    "nchs_data = pandas.concat(nchs_dataframes)"
   ]
  },
  {
   "cell_type": "code",
   "execution_count": 8,
   "metadata": {},
   "outputs": [],
   "source": [
    "# Sanity check\n",
    "separate_row_count = sum([dataframe.shape[0] for dataframe in nchs_dataframes])\n",
    "combined_row_count = nchs_data.shape[0]\n",
    "assert separate_row_count == combined_row_count, \"Expected {} to equal {}\".format(separate_row_count, combined_row_count)"
   ]
  },
  {
   "cell_type": "markdown",
   "metadata": {},
   "source": [
    "Read in the NHIS data extract"
   ]
  },
  {
   "cell_type": "code",
   "execution_count": 9,
   "metadata": {},
   "outputs": [],
   "source": [
    "# Set the path of your NHIS data extract (csv)\n",
    "nhis_file_path = \"../NHIS/nhis_test.csv.gz\""
   ]
  },
  {
   "cell_type": "code",
   "execution_count": 14,
   "metadata": {},
   "outputs": [],
   "source": [
    "nhis_chunks = pandas.read_csv(\n",
    "    nhis_file_path,\n",
    "    compression=\"gzip\",\n",
    "    chunksize=250000\n",
    ")"
   ]
  },
  {
   "cell_type": "markdown",
   "metadata": {},
   "source": [
    "Join the NCHS linked data with the raw NHIS data one chunk at a time, discarding unlinked data. Write merged dataframes to files."
   ]
  },
  {
   "cell_type": "code",
   "execution_count": null,
   "metadata": {},
   "outputs": [
    {
     "name": "stdout",
     "output_type": "stream",
     "text": [
      "Merged 0 of 0 rows. Processing CHUNK 0...\n",
      "Merged 0 of 250000 rows. Processing CHUNK 1...\n",
      "Merged 0 of 500000 rows. Processing CHUNK 2...\n",
      "Merged 0 of 750000 rows. Processing CHUNK 3...\n",
      "Merged 0 of 1000000 rows. Processing CHUNK 4...\n",
      "Merged 0 of 1250000 rows. Processing CHUNK 5...\n",
      "Merged 0 of 1500000 rows. Processing CHUNK 6...\n",
      "Merged 0 of 1750000 rows. Processing CHUNK 7...\n",
      "Merged 0 of 2000000 rows. Processing CHUNK 8...\n",
      "Merged 0 of 2250000 rows. Processing CHUNK 9...\n",
      "Merged 0 of 2500000 rows. Processing CHUNK 10...\n",
      "Merged 0 of 2750000 rows. Processing CHUNK 11...\n",
      "Merged 0 of 3000000 rows. Processing CHUNK 12...\n",
      "Merged 0 of 3250000 rows. Processing CHUNK 13...\n",
      "Merged 0 of 3500000 rows. Processing CHUNK 14...\n",
      "Merged 0 of 3750000 rows. Processing CHUNK 15...\n"
     ]
    }
   ],
   "source": [
    "total_rows_processed = 0\n",
    "total_rows_merged = 0\n",
    "\n",
    "for chunk_index, chunk in enumerate(nhis_chunks):\n",
    "    print(\"Merged {} of {} rows. Processing CHUNK {}...\".format(total_rows_merged, total_rows_processed, chunk_index))\n",
    "\n",
    "    merged_dataframe = pandas.merge(\n",
    "        chunk,\n",
    "        nchs_data,\n",
    "        left_on='NHISPID',\n",
    "        right_on='PUBLICID',\n",
    "        how='inner'#, suffixes=('_ldf', '_rdf')\n",
    "    )\n",
    "\n",
    "    merged_dataframe.to_csv(\n",
    "        '/tmp/NCHS_NHIS_linked_{}.csv'.format(chunk_index),\n",
    "        index=None,\n",
    "        header=True\n",
    "    )\n",
    "    \n",
    "    total_rows_merged += len(merged_dataframe)\n",
    "    total_rows_processed += len(chunk)"
   ]
  },
  {
   "cell_type": "markdown",
   "metadata": {},
   "source": [
    "```python\n",
    "pandas.merge(\n",
    "    restaurant_ids_dataframe,\n",
    "    restaurant_review_frame,\n",
    "    on='business_id',\n",
    "    how='outer',\n",
    "    suffixes=('_restaurant_id', '_restaurant_review')\n",
    ")\n",
    "```"
   ]
  },
  {
   "cell_type": "markdown",
   "metadata": {},
   "source": [
    "Read merged files and concat them"
   ]
  },
  {
   "cell_type": "code",
   "execution_count": null,
   "metadata": {},
   "outputs": [],
   "source": []
  }
 ],
 "metadata": {
  "kernelspec": {
   "display_name": "Python 3",
   "language": "python",
   "name": "python3"
  },
  "language_info": {
   "codemirror_mode": {
    "name": "ipython",
    "version": 3
   },
   "file_extension": ".py",
   "mimetype": "text/x-python",
   "name": "python",
   "nbconvert_exporter": "python",
   "pygments_lexer": "ipython3",
   "version": "3.7.4"
  }
 },
 "nbformat": 4,
 "nbformat_minor": 2
}
