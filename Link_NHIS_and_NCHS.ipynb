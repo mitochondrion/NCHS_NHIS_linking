{
 "cells": [
  {
   "cell_type": "code",
   "execution_count": 116,
   "metadata": {},
   "outputs": [],
   "source": [
    "from io import StringIO\n",
    "import pandas\n",
    "import glob"
   ]
  },
  {
   "cell_type": "raw",
   "metadata": {},
   "source": [
    "!wget --recursive ftp://ftp.cdc.gov/pub/Health_Statistics/NCHS/datalinkage/linked_mortality"
   ]
  },
  {
   "cell_type": "code",
   "execution_count": 107,
   "metadata": {},
   "outputs": [],
   "source": [
    "# nchs_nhis_linked_file_paths = glob.glob(\"./ftp.cdc.gov/pub/Health_Statistics/NCHS/datalinkage/linked_mortality/NHIS_*.dat\")\n",
    "nchs_nhis_linked_file_paths = glob.glob(\"NCHS_linked_data/NHIS_*.dat\")"
   ]
  },
  {
   "cell_type": "raw",
   "metadata": {},
   "source": [
    "# Sanity check\n",
    "nchs_nhis_linked_file_paths"
   ]
  },
  {
   "cell_type": "markdown",
   "metadata": {},
   "source": [
    "Read in all the NCHIS linked mortality for NHIS data files"
   ]
  },
  {
   "cell_type": "code",
   "execution_count": 99,
   "metadata": {},
   "outputs": [],
   "source": [
    "nchs_nhis_column_widths = [14,1,1,3,1,1,1,4,8,8]\n",
    "nchs_nhis_column_names = [\"PUBLICID\", \"ELIGSTAT\", \"MORTSTAT\", \"UCOD_LEADING\", \"DIABETES\", \"HYPERTEN\", \"DODQTR\", \"DODYEAR\", \"WGT_NEW\", \"SA_WGT_NEW\"]\n",
    "\n",
    "nchs_nhis_linked_dataframes = [\n",
    "    pandas.read_fwf(\n",
    "        file_path,\n",
    "        widths=nchs_nhis_column_widths,\n",
    "        names=nchs_nhis_column_names,\n",
    "        dtype=False, #{\"PUBLICID\": \"object\"}\n",
    "        na_values=['.']\n",
    "    )\n",
    "    for file_path\n",
    "    in nchs_nhis_linked_file_paths\n",
    "]"
   ]
  },
  {
   "cell_type": "raw",
   "metadata": {},
   "source": [
    "# Sanity check\n",
    "total_row_count = sum([df.shape[0] for df in nchs_nhis_linked_dataframes])\n",
    "\n",
    "for df in nchs_nhis_linked_dataframes:\n",
    "   print(\"{:8d}\".format(df.shape[0]))\n",
    "\n",
    "print(\"=\" * 8)\n",
    "print(\"{:8d}\".format(total_row_count))"
   ]
  },
  {
   "cell_type": "code",
   "execution_count": 118,
   "metadata": {},
   "outputs": [],
   "source": [
    "nchs_nhis_linked_data = pandas.concat(nchs_nhis_linked_dataframes)"
   ]
  },
  {
   "cell_type": "raw",
   "metadata": {},
   "source": [
    "# Sanity check\n",
    "sum_row_count = sum([df.shape[0] for df in nchs_nhis_linked_dataframes]\n",
    "concat_row_count = nchs_nhis_linked_data.shape[0]\n",
    "assert(sum_row_count == concat_row_count)"
   ]
  },
  {
   "cell_type": "markdown",
   "metadata": {},
   "source": [
    "Join the NCHS linked data with the raw NHIS data"
   ]
  },
  {
   "cell_type": "code",
   "execution_count": 89,
   "metadata": {},
   "outputs": [],
   "source": [
    "# linked_data.dtypes"
   ]
  },
  {
   "cell_type": "code",
   "execution_count": 90,
   "metadata": {},
   "outputs": [],
   "source": [
    "nhis_chunks = pandas.read_csv(\n",
    "    \"nhis_test.csv.gz\",\n",
    "    compression=\"gzip\",\n",
    "    chunksize=100000\n",
    ")"
   ]
  },
  {
   "cell_type": "code",
   "execution_count": null,
   "metadata": {},
   "outputs": [],
   "source": [
    "chunk = nhis_chunks.get_chunk()"
   ]
  },
  {
   "cell_type": "code",
   "execution_count": 82,
   "metadata": {},
   "outputs": [
    {
     "name": "stdout",
     "output_type": "stream",
     "text": [
      "Link_NHIS_and_NCHS.ipynb nhis_test.cbk.txt        nhis_test.xml\r\n",
      "\u001b[1m\u001b[34mNCHS_linked_data\u001b[m\u001b[m         nhis_test.csv.gz\r\n"
     ]
    }
   ],
   "source": [
    "!ls"
   ]
  }
 ],
 "metadata": {
  "kernelspec": {
   "display_name": "Python 3",
   "language": "python",
   "name": "python3"
  },
  "language_info": {
   "codemirror_mode": {
    "name": "ipython",
    "version": 3
   },
   "file_extension": ".py",
   "mimetype": "text/x-python",
   "name": "python",
   "nbconvert_exporter": "python",
   "pygments_lexer": "ipython3",
   "version": "3.7.4"
  }
 },
 "nbformat": 4,
 "nbformat_minor": 2
}
