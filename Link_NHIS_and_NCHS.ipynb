{
 "cells": [
  {
   "cell_type": "code",
   "execution_count": 2,
   "metadata": {},
   "outputs": [],
   "source": [
    "from io import StringIO\n",
    "import pandas\n",
    "import glob"
   ]
  },
  {
   "cell_type": "markdown",
   "metadata": {},
   "source": [
    "Download NCHS linked data (and discard non-NHIS linked data)"
   ]
  },
  {
   "cell_type": "code",
   "execution_count": null,
   "metadata": {},
   "outputs": [],
   "source": [
    "!wget --recursive ftp://ftp.cdc.gov/pub/Health_Statistics/NCHS/datalinkage/linked_mortality\n",
    "!mkdir NCHS_linked_data\n",
    "!mv ./ftp.cdc.gov/pub/Health_Statistics/NCHS/datalinkage/linked_mortality/NHIS_*.dat ./NCHS_linked_data/\n",
    "!rm -r ./ftp.cdc.gov"
   ]
  },
  {
   "cell_type": "markdown",
   "metadata": {},
   "source": [
    "Read in all the NCHS linked mortality datafiles"
   ]
  },
  {
   "cell_type": "code",
   "execution_count": 3,
   "metadata": {},
   "outputs": [],
   "source": [
    "nchs_file_paths = glob.glob(\"./NCHS_linked_data/NHIS_*.dat\")"
   ]
  },
  {
   "cell_type": "code",
   "execution_count": 5,
   "metadata": {},
   "outputs": [],
   "source": [
    "# Sanity check\n",
    "assert len(nchs_file_paths) > 0, \"No NCHS files available!\""
   ]
  },
  {
   "cell_type": "code",
   "execution_count": 6,
   "metadata": {},
   "outputs": [],
   "source": [
    "nchs_column_widths = [14,1,1,3,1,1,1,4,8,8]\n",
    "nchs_column_names = [\"PUBLICID\", \"ELIGSTAT\", \"MORTSTAT\", \"UCOD_LEADING\", \"DIABETES\", \"HYPERTEN\", \"DODQTR\", \"DODYEAR\", \"WGT_NEW\", \"SA_WGT_NEW\"]\n",
    "\n",
    "nchs_dataframes = [\n",
    "    pandas.read_fwf(\n",
    "        file_path,\n",
    "        widths=nchs_column_widths,\n",
    "        names=nchs_column_names,\n",
    "        dtype=False, #{\"PUBLICID\": \"object\"}\n",
    "        na_values=['.']\n",
    "    )\n",
    "    for file_path\n",
    "    in nchs_file_paths\n",
    "]"
   ]
  },
  {
   "cell_type": "code",
   "execution_count": 10,
   "metadata": {},
   "outputs": [],
   "source": [
    "# Sanity check\n",
    "total_row_count = sum([dataframe.shape[0] for dataframe in nchs_dataframes])\n",
    "total_line_count_string = !wc -l ./NCHS_linked_data/NHIS_*.dat | grep total | cut -f2 -d' '\n",
    "total_line_count = int(total_line_count_string[0])\n",
    "assert total_row_count == total_line_count, \"Expected {} to equal {}\".format(total_row_count, total_line_count)"
   ]
  },
  {
   "cell_type": "code",
   "execution_count": 11,
   "metadata": {},
   "outputs": [
    {
     "name": "stdout",
     "output_type": "stream",
     "text": [
      "  120032\n",
      "   89976\n",
      "  116179\n",
      "   62052\n",
      "   75764\n",
      "   93386\n",
      "  116929\n",
      "   74236\n",
      "  101875\n",
      "  119631\n",
      "  102467\n",
      "  112053\n",
      "   88446\n",
      "  122310\n",
      "   75716\n",
      "  122859\n",
      "   92148\n",
      "  100618\n",
      "   98649\n",
      "   97059\n",
      "   63402\n",
      "  108131\n",
      "  109671\n",
      "  100760\n",
      "   94460\n",
      "  103477\n",
      "  128412\n",
      "  104520\n",
      "   98785\n",
      "========\n",
      " 2894003\n"
     ]
    }
   ],
   "source": [
    "# Debug info\n",
    "for dataframe in nchs_dataframes:\n",
    "   print(\"{:8d}\".format(dataframe.shape[0]))\n",
    "\n",
    "print(\"=\" * 8)\n",
    "print(\"{:8d}\".format(total_row_count))"
   ]
  },
  {
   "cell_type": "markdown",
   "metadata": {},
   "source": [
    "Combine NCHS dataframes into one big dataframe"
   ]
  },
  {
   "cell_type": "code",
   "execution_count": 13,
   "metadata": {},
   "outputs": [],
   "source": [
    "nchs_data = pandas.concat(nchs_dataframes)"
   ]
  },
  {
   "cell_type": "code",
   "execution_count": 14,
   "metadata": {},
   "outputs": [],
   "source": [
    "# Sanity check\n",
    "separate_row_count = sum([dataframe.shape[0] for dataframe in nchs_dataframes])\n",
    "combined_row_count = nchs_data.shape[0]\n",
    "assert separate_row_count == combined_row_count, \"Expected {} to equal {}\".format(separate_row_count, combined_row_count)"
   ]
  },
  {
   "cell_type": "markdown",
   "metadata": {},
   "source": [
    "Read in the NHIS data extract"
   ]
  },
  {
   "cell_type": "code",
   "execution_count": 15,
   "metadata": {},
   "outputs": [],
   "source": [
    "# Set the path of your NHIS data extract (csv)\n",
    "nhis_file_path = \"../NHIS/nhis_test.csv.gz\""
   ]
  },
  {
   "cell_type": "code",
   "execution_count": 16,
   "metadata": {},
   "outputs": [],
   "source": [
    "nhis_chunks = pandas.read_csv(\n",
    "    nhis_file_path,\n",
    "    compression=\"gzip\",\n",
    "    chunksize=500000\n",
    ")"
   ]
  },
  {
   "cell_type": "markdown",
   "metadata": {},
   "source": [
    "Join the NCHS linked data with the raw NHIS data"
   ]
  },
  {
   "cell_type": "code",
   "execution_count": 17,
   "metadata": {},
   "outputs": [
    {
     "name": "stderr",
     "output_type": "stream",
     "text": [
      "/usr/local/lib/python3.7/site-packages/IPython/core/interactiveshell.py:3058: DtypeWarning: Columns (4) have mixed types. Specify dtype option on import or set low_memory=False.\n",
      "  interactivity=interactivity, compiler=compiler, result=result)\n"
     ]
    },
    {
     "name": "stdout",
     "output_type": "stream",
     "text": [
      "CHUNK 500000\n"
     ]
    },
    {
     "name": "stderr",
     "output_type": "stream",
     "text": [
      "/usr/local/lib/python3.7/site-packages/IPython/core/interactiveshell.py:3058: DtypeWarning: Columns (4,8,11) have mixed types. Specify dtype option on import or set low_memory=False.\n",
      "  interactivity=interactivity, compiler=compiler, result=result)\n"
     ]
    },
    {
     "name": "stdout",
     "output_type": "stream",
     "text": [
      "CHUNK 500000\n",
      "CHUNK 500000\n"
     ]
    },
    {
     "name": "stderr",
     "output_type": "stream",
     "text": [
      "/usr/local/lib/python3.7/site-packages/IPython/core/interactiveshell.py:3058: DtypeWarning: Columns (11) have mixed types. Specify dtype option on import or set low_memory=False.\n",
      "  interactivity=interactivity, compiler=compiler, result=result)\n"
     ]
    },
    {
     "name": "stdout",
     "output_type": "stream",
     "text": [
      "CHUNK 500000\n",
      "CHUNK 500000\n",
      "CHUNK 500000\n",
      "CHUNK 500000\n",
      "CHUNK 500000\n",
      "CHUNK 500000\n",
      "CHUNK 500000\n",
      "CHUNK 500000\n",
      "CHUNK 490154\n"
     ]
    }
   ],
   "source": [
    "for chunk in nhis_chunks:\n",
    "    print(\"CHUNK {}\".format(len(chunk)))\n",
    "    # MERGE\n",
    "    # pandas.merge(ldf, rdf, on='column', how='right', suffixes='')\n",
    "    .to_csv (r'C:\\Users\\Ron\\Desktop\\export_dataframe.csv', index = None, header=True)\n",
    "    # WRITE MERGED TO DISK"
   ]
  },
  {
   "cell_type": "markdown",
   "metadata": {},
   "source": [
    "```python\n",
    "pandas.merge(\n",
    "    restaurant_ids_dataframe,\n",
    "    restaurant_review_frame,\n",
    "    on='business_id',\n",
    "    how='outer',\n",
    "    suffixes=('_restaurant_id', '_restaurant_review')\n",
    ")\n",
    "```"
   ]
  },
  {
   "cell_type": "code",
   "execution_count": null,
   "metadata": {},
   "outputs": [],
   "source": []
  }
 ],
 "metadata": {
  "kernelspec": {
   "display_name": "Python 3",
   "language": "python",
   "name": "python3"
  },
  "language_info": {
   "codemirror_mode": {
    "name": "ipython",
    "version": 3
   },
   "file_extension": ".py",
   "mimetype": "text/x-python",
   "name": "python",
   "nbconvert_exporter": "python",
   "pygments_lexer": "ipython3",
   "version": "3.7.4"
  }
 },
 "nbformat": 4,
 "nbformat_minor": 2
}
